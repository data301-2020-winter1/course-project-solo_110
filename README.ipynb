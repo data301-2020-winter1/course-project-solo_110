{
 "cells": [
  {
   "cell_type": "markdown",
   "metadata": {},
   "source": [
    "# SOLO Group 110 - {Bitcoin Analysis}\n",
    "--- \n",
    "The analysis of bitcoin throught the years 2013 to 2018.\n",
    "## Milestones\n",
    "---\n",
    "#### ~Milestone 1:~ *(Completed)*\n",
    " - ~Task 1: Project Setup~\n",
    " - ~Task 2: Choosing topic and dataset, and get approval~\n",
    " - ~Task 3: Introduce and describe dataset and topic~\n",
    " \n",
    "#### Milestone 2:\n",
    " - Task 1: Introduction to Markdown\n",
    " - Task 2: Introduction to Git merges, branches, and more\n",
    " - Task 3: Method Chaining and Python Programs\n",
    " - Task 4: Conduct an Exploratory Data Analysis (EDA) on your dataset\n",
    " - Task 5: Conduct your analysis to help answer your research question(s)\n",
    " \n",
    "---\n",
    "## Topic of interest\n",
    "---\n",
    "Crytocurrency had a huge uprising in the years 2016-2018, the aim of this project is to analyze the patterns in pricing and volume over time of Bitcoin. While there are other sources and forms of cryptocurrency, this dataset will focus on Bitcoin (the USD of cryptocurrency). Since cryptocurrency has launched, experts have been unsure about the actual value of Bitcoin as it holds no physical value and rather the monetary value is based off its consumers(investors) view of this commodity. This analysis will hopefully bring insight into the value of Bitcoin.\n",
    "\n",
    "---\n",
    "### About the dataset\n",
    "---\n",
    "- This dataset is taken from [this website](https://coinmarketcap.com/) and it is free to use the data.\n",
    "- The bitcoin dataset is obtained from Blockchain info.\n",
    "- The ethereum dataset (which we are not using) is obtained from Etherscan.\n",
    "- The dataset includes prices available on a daily basis from April 28, 2013 up until February 20, 2018.\n",
    "- It inclues the date, opening price, high, low, closing price as well as total volume during that day."
   ]
  },
  {
   "cell_type": "code",
   "execution_count": null,
   "metadata": {},
   "outputs": [],
   "source": []
  },
  {
   "cell_type": "code",
   "execution_count": null,
   "metadata": {},
   "outputs": [],
   "source": []
  }
 ],
 "metadata": {
  "kernelspec": {
   "display_name": "Python 3",
   "language": "python",
   "name": "python3"
  },
  "language_info": {
   "codemirror_mode": {
    "name": "ipython",
    "version": 3
   },
   "file_extension": ".py",
   "mimetype": "text/x-python",
   "name": "python",
   "nbconvert_exporter": "python",
   "pygments_lexer": "ipython3",
   "version": "3.8.3"
  }
 },
 "nbformat": 4,
 "nbformat_minor": 4
}
