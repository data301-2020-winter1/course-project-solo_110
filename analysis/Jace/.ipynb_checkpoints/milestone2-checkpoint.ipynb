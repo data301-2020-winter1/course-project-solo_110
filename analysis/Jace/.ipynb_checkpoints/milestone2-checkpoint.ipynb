{
 "cells": [
  {
   "cell_type": "markdown",
   "metadata": {},
   "source": [
    "# Group 110 - {Bitcoin Analysis}\n",
    "--- \n",
    "The analysis of bitcoin throught the years 2013 to 2018.\n",
    "<br>\n",
    "## Tasks\n",
    "---\n",
    "#### Method Chaining and Python Programs:\n",
    "---"
   ]
  },
  {
   "cell_type": "code",
   "execution_count": 1,
   "metadata": {},
   "outputs": [],
   "source": [
    "from scripts import project_functions as pf"
   ]
  },
  {
   "cell_type": "code",
   "execution_count": 9,
   "metadata": {},
   "outputs": [
    {
     "data": {
      "text/html": [
       "<div>\n",
       "<style scoped>\n",
       "    .dataframe tbody tr th:only-of-type {\n",
       "        vertical-align: middle;\n",
       "    }\n",
       "\n",
       "    .dataframe tbody tr th {\n",
       "        vertical-align: top;\n",
       "    }\n",
       "\n",
       "    .dataframe thead th {\n",
       "        text-align: right;\n",
       "    }\n",
       "</style>\n",
       "<table border=\"1\" class=\"dataframe\">\n",
       "  <thead>\n",
       "    <tr style=\"text-align: right;\">\n",
       "      <th></th>\n",
       "      <th>Date</th>\n",
       "      <th>Open</th>\n",
       "      <th>High</th>\n",
       "      <th>Low</th>\n",
       "      <th>Close</th>\n",
       "      <th>Volume</th>\n",
       "      <th>Market Cap</th>\n",
       "    </tr>\n",
       "  </thead>\n",
       "  <tbody>\n",
       "    <tr>\n",
       "      <th>267</th>\n",
       "      <td>May 29, 2017</td>\n",
       "      <td>2159.43</td>\n",
       "      <td>2307.05</td>\n",
       "      <td>2107.17</td>\n",
       "      <td>2255.61</td>\n",
       "      <td>994,625,000</td>\n",
       "      <td>35,323,500,000</td>\n",
       "    </tr>\n",
       "    <tr>\n",
       "      <th>220</th>\n",
       "      <td>Jul 15, 2017</td>\n",
       "      <td>2230.12</td>\n",
       "      <td>2231.14</td>\n",
       "      <td>1990.41</td>\n",
       "      <td>1998.86</td>\n",
       "      <td>993,608,000</td>\n",
       "      <td>36,681,300,000</td>\n",
       "    </tr>\n",
       "    <tr>\n",
       "      <th>473</th>\n",
       "      <td>Nov 04, 2016</td>\n",
       "      <td>689.12</td>\n",
       "      <td>706.93</td>\n",
       "      <td>685.56</td>\n",
       "      <td>703.24</td>\n",
       "      <td>99,907,700</td>\n",
       "      <td>10,996,400,000</td>\n",
       "    </tr>\n",
       "    <tr>\n",
       "      <th>427</th>\n",
       "      <td>Dec 20, 2016</td>\n",
       "      <td>792.25</td>\n",
       "      <td>801.34</td>\n",
       "      <td>791.50</td>\n",
       "      <td>800.88</td>\n",
       "      <td>99,629,300</td>\n",
       "      <td>12,717,600,000</td>\n",
       "    </tr>\n",
       "    <tr>\n",
       "      <th>615</th>\n",
       "      <td>Jun 15, 2016</td>\n",
       "      <td>685.68</td>\n",
       "      <td>696.30</td>\n",
       "      <td>672.56</td>\n",
       "      <td>694.47</td>\n",
       "      <td>99,223,800</td>\n",
       "      <td>10,736,600,000</td>\n",
       "    </tr>\n",
       "    <tr>\n",
       "      <th>...</th>\n",
       "      <td>...</td>\n",
       "      <td>...</td>\n",
       "      <td>...</td>\n",
       "      <td>...</td>\n",
       "      <td>...</td>\n",
       "      <td>...</td>\n",
       "      <td>...</td>\n",
       "    </tr>\n",
       "    <tr>\n",
       "      <th>1601</th>\n",
       "      <td>Oct 03, 2013</td>\n",
       "      <td>114.45</td>\n",
       "      <td>123.63</td>\n",
       "      <td>111.82</td>\n",
       "      <td>123.63</td>\n",
       "      <td>-</td>\n",
       "      <td>1,348,700,000</td>\n",
       "    </tr>\n",
       "    <tr>\n",
       "      <th>1602</th>\n",
       "      <td>Oct 02, 2013</td>\n",
       "      <td>132.05</td>\n",
       "      <td>133.59</td>\n",
       "      <td>102.25</td>\n",
       "      <td>114.13</td>\n",
       "      <td>-</td>\n",
       "      <td>1,555,470,000</td>\n",
       "    </tr>\n",
       "    <tr>\n",
       "      <th>1603</th>\n",
       "      <td>Oct 01, 2013</td>\n",
       "      <td>132.68</td>\n",
       "      <td>134.63</td>\n",
       "      <td>131.55</td>\n",
       "      <td>132.18</td>\n",
       "      <td>-</td>\n",
       "      <td>1,562,270,000</td>\n",
       "    </tr>\n",
       "    <tr>\n",
       "      <th>1604</th>\n",
       "      <td>Sep 30, 2013</td>\n",
       "      <td>137.15</td>\n",
       "      <td>138.35</td>\n",
       "      <td>130.27</td>\n",
       "      <td>133.00</td>\n",
       "      <td>-</td>\n",
       "      <td>1,614,350,000</td>\n",
       "    </tr>\n",
       "    <tr>\n",
       "      <th>1759</th>\n",
       "      <td>Apr 28, 2013</td>\n",
       "      <td>135.30</td>\n",
       "      <td>135.98</td>\n",
       "      <td>132.10</td>\n",
       "      <td>134.21</td>\n",
       "      <td>-</td>\n",
       "      <td>1,500,520,000</td>\n",
       "    </tr>\n",
       "  </tbody>\n",
       "</table>\n",
       "<p>1760 rows × 7 columns</p>\n",
       "</div>"
      ],
      "text/plain": [
       "              Date     Open     High      Low    Close       Volume  \\\n",
       "267   May 29, 2017  2159.43  2307.05  2107.17  2255.61  994,625,000   \n",
       "220   Jul 15, 2017  2230.12  2231.14  1990.41  1998.86  993,608,000   \n",
       "473   Nov 04, 2016   689.12   706.93   685.56   703.24   99,907,700   \n",
       "427   Dec 20, 2016   792.25   801.34   791.50   800.88   99,629,300   \n",
       "615   Jun 15, 2016   685.68   696.30   672.56   694.47   99,223,800   \n",
       "...            ...      ...      ...      ...      ...          ...   \n",
       "1601  Oct 03, 2013   114.45   123.63   111.82   123.63            -   \n",
       "1602  Oct 02, 2013   132.05   133.59   102.25   114.13            -   \n",
       "1603  Oct 01, 2013   132.68   134.63   131.55   132.18            -   \n",
       "1604  Sep 30, 2013   137.15   138.35   130.27   133.00            -   \n",
       "1759  Apr 28, 2013   135.30   135.98   132.10   134.21            -   \n",
       "\n",
       "          Market Cap  \n",
       "267   35,323,500,000  \n",
       "220   36,681,300,000  \n",
       "473   10,996,400,000  \n",
       "427   12,717,600,000  \n",
       "615   10,736,600,000  \n",
       "...              ...  \n",
       "1601   1,348,700,000  \n",
       "1602   1,555,470,000  \n",
       "1603   1,562,270,000  \n",
       "1604   1,614,350,000  \n",
       "1759   1,500,520,000  \n",
       "\n",
       "[1760 rows x 7 columns]"
      ]
     },
     "execution_count": 9,
     "metadata": {},
     "output_type": "execute_result"
    }
   ],
   "source": [
    "path1 = \"../../data/raw/bitcoin_price_dataset.csv\"\n",
    "df = pf.load(path1)\n",
    "df = pf.sort(df,'Volume')\n",
    "df"
   ]
  },
  {
   "cell_type": "markdown",
   "metadata": {},
   "source": [
    "***The table shown ABOVE is organized by increasing volume***\n",
    "<br>\n",
    "<br>"
   ]
  },
  {
   "cell_type": "markdown",
   "metadata": {},
   "source": [
    "#### Conduct an Exploratory Data Anaylysis on Dataset\n",
    "---"
   ]
  },
  {
   "cell_type": "markdown",
   "metadata": {},
   "source": [
    "Firstly, in order to better understand our dataset, we must first understand its layout, which includes the number of rows and columns."
   ]
  },
  {
   "cell_type": "code",
   "execution_count": 3,
   "metadata": {},
   "outputs": [
    {
     "name": "stdout",
     "output_type": "stream",
     "text": [
      "Number of Rows: 1760 \n",
      "Number of Cols: 7\n"
     ]
    }
   ],
   "source": [
    "num_columns = pf.countColumns(df)\n",
    "num_rows = pf.countRows(df)\n",
    "\n",
    "print(\"Number of Rows: %d \\nNumber of Cols: %d\"%(num_rows,num_columns))"
   ]
  },
  {
   "cell_type": "markdown",
   "metadata": {},
   "source": [
    "<br>\n",
    "\n",
    "Now that we have the number of rows and columns, let us find out what the idetifiers for the columns are"
   ]
  },
  {
   "cell_type": "code",
   "execution_count": 5,
   "metadata": {},
   "outputs": [
    {
     "name": "stdout",
     "output_type": "stream",
     "text": [
      "Date\n",
      "Open\n",
      "High\n",
      "Low\n",
      "Close\n",
      "Volume\n",
      "Market Cap\n"
     ]
    }
   ],
   "source": [
    "pf.listColumns(df)"
   ]
  },
  {
   "cell_type": "markdown",
   "metadata": {},
   "source": [
    "We can see that there are indeed 7 columns: Date, Open, High, Low, Close, Volume and Market Cap.\n",
    "Let us move on to see if there is any values that stand out which might be a possible error."
   ]
  },
  {
   "cell_type": "code",
   "execution_count": 6,
   "metadata": {},
   "outputs": [
    {
     "data": {
      "text/html": [
       "<div>\n",
       "<style scoped>\n",
       "    .dataframe tbody tr th:only-of-type {\n",
       "        vertical-align: middle;\n",
       "    }\n",
       "\n",
       "    .dataframe tbody tr th {\n",
       "        vertical-align: top;\n",
       "    }\n",
       "\n",
       "    .dataframe thead th {\n",
       "        text-align: right;\n",
       "    }\n",
       "</style>\n",
       "<table border=\"1\" class=\"dataframe\">\n",
       "  <thead>\n",
       "    <tr style=\"text-align: right;\">\n",
       "      <th></th>\n",
       "      <th>Open</th>\n",
       "      <th>High</th>\n",
       "      <th>Low</th>\n",
       "      <th>Close</th>\n",
       "    </tr>\n",
       "  </thead>\n",
       "  <tbody>\n",
       "    <tr>\n",
       "      <th>count</th>\n",
       "      <td>1760.000000</td>\n",
       "      <td>1760.000000</td>\n",
       "      <td>1760.000000</td>\n",
       "      <td>1760.000000</td>\n",
       "    </tr>\n",
       "    <tr>\n",
       "      <th>mean</th>\n",
       "      <td>1479.574239</td>\n",
       "      <td>1536.991108</td>\n",
       "      <td>1418.251273</td>\n",
       "      <td>1485.747000</td>\n",
       "    </tr>\n",
       "    <tr>\n",
       "      <th>std</th>\n",
       "      <td>2950.457188</td>\n",
       "      <td>3092.950362</td>\n",
       "      <td>2780.859459</td>\n",
       "      <td>2959.265478</td>\n",
       "    </tr>\n",
       "    <tr>\n",
       "      <th>min</th>\n",
       "      <td>68.500000</td>\n",
       "      <td>74.560000</td>\n",
       "      <td>65.530000</td>\n",
       "      <td>68.430000</td>\n",
       "    </tr>\n",
       "    <tr>\n",
       "      <th>25%</th>\n",
       "      <td>274.730000</td>\n",
       "      <td>279.857500</td>\n",
       "      <td>268.640000</td>\n",
       "      <td>274.875000</td>\n",
       "    </tr>\n",
       "    <tr>\n",
       "      <th>50%</th>\n",
       "      <td>480.715000</td>\n",
       "      <td>495.195000</td>\n",
       "      <td>472.510000</td>\n",
       "      <td>482.810000</td>\n",
       "    </tr>\n",
       "    <tr>\n",
       "      <th>75%</th>\n",
       "      <td>870.085000</td>\n",
       "      <td>900.222500</td>\n",
       "      <td>831.682500</td>\n",
       "      <td>871.370000</td>\n",
       "    </tr>\n",
       "    <tr>\n",
       "      <th>max</th>\n",
       "      <td>19475.800000</td>\n",
       "      <td>20089.000000</td>\n",
       "      <td>18974.100000</td>\n",
       "      <td>19497.400000</td>\n",
       "    </tr>\n",
       "  </tbody>\n",
       "</table>\n",
       "</div>"
      ],
      "text/plain": [
       "               Open          High           Low         Close\n",
       "count   1760.000000   1760.000000   1760.000000   1760.000000\n",
       "mean    1479.574239   1536.991108   1418.251273   1485.747000\n",
       "std     2950.457188   3092.950362   2780.859459   2959.265478\n",
       "min       68.500000     74.560000     65.530000     68.430000\n",
       "25%      274.730000    279.857500    268.640000    274.875000\n",
       "50%      480.715000    495.195000    472.510000    482.810000\n",
       "75%      870.085000    900.222500    831.682500    871.370000\n",
       "max    19475.800000  20089.000000  18974.100000  19497.400000"
      ]
     },
     "execution_count": 6,
     "metadata": {},
     "output_type": "execute_result"
    }
   ],
   "source": [
    "df.describe()"
   ]
  },
  {
   "cell_type": "markdown",
   "metadata": {},
   "source": [
    "From this, we can see the count of Open,High, Low and Close match each other, meaning that none of the values are missing or NA for those particular columns. The mean, min and max values seem to be reasonable and there are no outliers worth removing."
   ]
  },
  {
   "cell_type": "code",
   "execution_count": null,
   "metadata": {},
   "outputs": [],
   "source": []
  }
 ],
 "metadata": {
  "kernelspec": {
   "display_name": "Python 3",
   "language": "python",
   "name": "python3"
  },
  "language_info": {
   "codemirror_mode": {
    "name": "ipython",
    "version": 3
   },
   "file_extension": ".py",
   "mimetype": "text/x-python",
   "name": "python",
   "nbconvert_exporter": "python",
   "pygments_lexer": "ipython3",
   "version": "3.8.3"
  }
 },
 "nbformat": 4,
 "nbformat_minor": 4
}
