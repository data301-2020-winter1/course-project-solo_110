{
 "cells": [
  {
   "cell_type": "markdown",
   "metadata": {},
   "source": [
    "# Group 110 - {Bitcoin Analysis}\n",
    "--- \n",
    "The analysis of bitcoin throught the years 2013 to 2018.\n",
    "## Milestones\n",
    "---\n",
    "#### ~Milestone 1:~ *(Completed)*\n",
    " - ~Task 1: Project Setup~\n",
    " - ~Task 2: Choosing topic and dataset, and get approval~\n",
    " - ~Task 3: Introduce and describe dataset and topic~\n",
    " \n",
    "#### Milestone 2:\n",
    " - Task 1: Introduction to Markdown\n",
    " - Task 2: Introduction to Git merges, branches, and more\n",
    " - Task 3: Method Chaining and Python Programs\n",
    " - Task 4: Conduct an Exploratory Data Analysis (EDA) on your dataset\n",
    " - Task 5: Conduct your analysis to help answer your research question(s)"
   ]
  },
  {
   "cell_type": "markdown",
   "metadata": {},
   "source": []
  }
 ],
 "metadata": {
  "kernelspec": {
   "display_name": "Python 3",
   "language": "python",
   "name": "python3"
  },
  "language_info": {
   "codemirror_mode": {
    "name": "ipython",
    "version": 3
   },
   "file_extension": ".py",
   "mimetype": "text/x-python",
   "name": "python",
   "nbconvert_exporter": "python",
   "pygments_lexer": "ipython3",
   "version": "3.8.3"
  }
 },
 "nbformat": 4,
 "nbformat_minor": 4
}
