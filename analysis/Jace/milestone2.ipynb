{
 "cells": [
  {
   "cell_type": "markdown",
   "metadata": {},
   "source": [
    "# Milestone 2- {Bitcoin Analysis}\n",
    "--- \n",
    "The analysis of bitcoin throught the years 2013 to 2018.\n",
    "<br>\n",
    "## Tasks\n",
    "---\n",
    "#### *Method Chaining and Python Programs*:\n",
    "---"
   ]
  },
  {
   "cell_type": "code",
   "execution_count": 1,
   "metadata": {},
   "outputs": [],
   "source": [
    "from scripts import project_functions as pf\n",
    "import pandas as pd\n",
    "import numpy as np\n",
    "import matplotlib.pyplot as plt\n",
    "import seaborn as sns\n",
    "import datetime"
   ]
  },
  {
   "cell_type": "code",
   "execution_count": 2,
   "metadata": {},
   "outputs": [
    {
     "data": {
      "text/html": [
       "<div>\n",
       "<style scoped>\n",
       "    .dataframe tbody tr th:only-of-type {\n",
       "        vertical-align: middle;\n",
       "    }\n",
       "\n",
       "    .dataframe tbody tr th {\n",
       "        vertical-align: top;\n",
       "    }\n",
       "\n",
       "    .dataframe thead th {\n",
       "        text-align: right;\n",
       "    }\n",
       "</style>\n",
       "<table border=\"1\" class=\"dataframe\">\n",
       "  <thead>\n",
       "    <tr style=\"text-align: right;\">\n",
       "      <th></th>\n",
       "      <th>Date</th>\n",
       "      <th>Converted_Date</th>\n",
       "      <th>Open</th>\n",
       "      <th>High</th>\n",
       "      <th>Low</th>\n",
       "      <th>Close</th>\n",
       "      <th>Volume</th>\n",
       "      <th>Market Cap</th>\n",
       "    </tr>\n",
       "  </thead>\n",
       "  <tbody>\n",
       "    <tr>\n",
       "      <th>0</th>\n",
       "      <td>Feb 20, 2018</td>\n",
       "      <td>2018-02-20</td>\n",
       "      <td>11231.80</td>\n",
       "      <td>11958.50</td>\n",
       "      <td>11231.80</td>\n",
       "      <td>11403.70</td>\n",
       "      <td>9,926,540,000</td>\n",
       "      <td>189,536,000,000</td>\n",
       "    </tr>\n",
       "    <tr>\n",
       "      <th>1</th>\n",
       "      <td>Feb 19, 2018</td>\n",
       "      <td>2018-02-19</td>\n",
       "      <td>10552.60</td>\n",
       "      <td>11273.80</td>\n",
       "      <td>10513.20</td>\n",
       "      <td>11225.30</td>\n",
       "      <td>7,652,090,000</td>\n",
       "      <td>178,055,000,000</td>\n",
       "    </tr>\n",
       "    <tr>\n",
       "      <th>2</th>\n",
       "      <td>Feb 18, 2018</td>\n",
       "      <td>2018-02-18</td>\n",
       "      <td>11123.40</td>\n",
       "      <td>11349.80</td>\n",
       "      <td>10326.00</td>\n",
       "      <td>10551.80</td>\n",
       "      <td>8,744,010,000</td>\n",
       "      <td>187,663,000,000</td>\n",
       "    </tr>\n",
       "    <tr>\n",
       "      <th>3</th>\n",
       "      <td>Feb 17, 2018</td>\n",
       "      <td>2018-02-17</td>\n",
       "      <td>10207.50</td>\n",
       "      <td>11139.50</td>\n",
       "      <td>10149.40</td>\n",
       "      <td>11112.70</td>\n",
       "      <td>8,660,880,000</td>\n",
       "      <td>172,191,000,000</td>\n",
       "    </tr>\n",
       "    <tr>\n",
       "      <th>4</th>\n",
       "      <td>Feb 16, 2018</td>\n",
       "      <td>2018-02-16</td>\n",
       "      <td>10135.70</td>\n",
       "      <td>10324.10</td>\n",
       "      <td>9824.82</td>\n",
       "      <td>10233.90</td>\n",
       "      <td>7,296,160,000</td>\n",
       "      <td>170,960,000,000</td>\n",
       "    </tr>\n",
       "    <tr>\n",
       "      <th>...</th>\n",
       "      <td>...</td>\n",
       "      <td>...</td>\n",
       "      <td>...</td>\n",
       "      <td>...</td>\n",
       "      <td>...</td>\n",
       "      <td>...</td>\n",
       "      <td>...</td>\n",
       "      <td>...</td>\n",
       "    </tr>\n",
       "    <tr>\n",
       "      <th>1755</th>\n",
       "      <td>May 02, 2013</td>\n",
       "      <td>2013-05-02</td>\n",
       "      <td>116.38</td>\n",
       "      <td>125.60</td>\n",
       "      <td>92.28</td>\n",
       "      <td>105.21</td>\n",
       "      <td>-</td>\n",
       "      <td>1,292,190,000</td>\n",
       "    </tr>\n",
       "    <tr>\n",
       "      <th>1756</th>\n",
       "      <td>May 01, 2013</td>\n",
       "      <td>2013-05-01</td>\n",
       "      <td>139.00</td>\n",
       "      <td>139.89</td>\n",
       "      <td>107.72</td>\n",
       "      <td>116.99</td>\n",
       "      <td>-</td>\n",
       "      <td>1,542,820,000</td>\n",
       "    </tr>\n",
       "    <tr>\n",
       "      <th>1757</th>\n",
       "      <td>Apr 30, 2013</td>\n",
       "      <td>2013-04-30</td>\n",
       "      <td>144.00</td>\n",
       "      <td>146.93</td>\n",
       "      <td>134.05</td>\n",
       "      <td>139.00</td>\n",
       "      <td>-</td>\n",
       "      <td>1,597,780,000</td>\n",
       "    </tr>\n",
       "    <tr>\n",
       "      <th>1758</th>\n",
       "      <td>Apr 29, 2013</td>\n",
       "      <td>2013-04-29</td>\n",
       "      <td>134.44</td>\n",
       "      <td>147.49</td>\n",
       "      <td>134.00</td>\n",
       "      <td>144.54</td>\n",
       "      <td>-</td>\n",
       "      <td>1,491,160,000</td>\n",
       "    </tr>\n",
       "    <tr>\n",
       "      <th>1759</th>\n",
       "      <td>Apr 28, 2013</td>\n",
       "      <td>2013-04-28</td>\n",
       "      <td>135.30</td>\n",
       "      <td>135.98</td>\n",
       "      <td>132.10</td>\n",
       "      <td>134.21</td>\n",
       "      <td>-</td>\n",
       "      <td>1,500,520,000</td>\n",
       "    </tr>\n",
       "  </tbody>\n",
       "</table>\n",
       "<p>1760 rows × 8 columns</p>\n",
       "</div>"
      ],
      "text/plain": [
       "              Date Converted_Date      Open      High       Low     Close  \\\n",
       "0     Feb 20, 2018     2018-02-20  11231.80  11958.50  11231.80  11403.70   \n",
       "1     Feb 19, 2018     2018-02-19  10552.60  11273.80  10513.20  11225.30   \n",
       "2     Feb 18, 2018     2018-02-18  11123.40  11349.80  10326.00  10551.80   \n",
       "3     Feb 17, 2018     2018-02-17  10207.50  11139.50  10149.40  11112.70   \n",
       "4     Feb 16, 2018     2018-02-16  10135.70  10324.10   9824.82  10233.90   \n",
       "...            ...            ...       ...       ...       ...       ...   \n",
       "1755  May 02, 2013     2013-05-02    116.38    125.60     92.28    105.21   \n",
       "1756  May 01, 2013     2013-05-01    139.00    139.89    107.72    116.99   \n",
       "1757  Apr 30, 2013     2013-04-30    144.00    146.93    134.05    139.00   \n",
       "1758  Apr 29, 2013     2013-04-29    134.44    147.49    134.00    144.54   \n",
       "1759  Apr 28, 2013     2013-04-28    135.30    135.98    132.10    134.21   \n",
       "\n",
       "             Volume       Market Cap  \n",
       "0     9,926,540,000  189,536,000,000  \n",
       "1     7,652,090,000  178,055,000,000  \n",
       "2     8,744,010,000  187,663,000,000  \n",
       "3     8,660,880,000  172,191,000,000  \n",
       "4     7,296,160,000  170,960,000,000  \n",
       "...             ...              ...  \n",
       "1755              -    1,292,190,000  \n",
       "1756              -    1,542,820,000  \n",
       "1757              -    1,597,780,000  \n",
       "1758              -    1,491,160,000  \n",
       "1759              -    1,500,520,000  \n",
       "\n",
       "[1760 rows x 8 columns]"
      ]
     },
     "execution_count": 2,
     "metadata": {},
     "output_type": "execute_result"
    }
   ],
   "source": [
    "path1 = \"../../data/raw/bitcoin_price_dataset.csv\"\n",
    "df = pf.load(path1)\n",
    "df"
   ]
  },
  {
   "cell_type": "markdown",
   "metadata": {},
   "source": [
    "***The table shown ABOVE is organized by increasing volume***\n",
    "<br>\n",
    "<br>"
   ]
  },
  {
   "cell_type": "markdown",
   "metadata": {},
   "source": [
    "#### *Conduct an Exploratory Data Anaylysis on Dataset*\n",
    "---"
   ]
  },
  {
   "cell_type": "markdown",
   "metadata": {},
   "source": [
    "Firstly, in order to better understand our dataset, we must first understand its layout, which includes the number of rows and columns."
   ]
  },
  {
   "cell_type": "code",
   "execution_count": 3,
   "metadata": {},
   "outputs": [
    {
     "name": "stdout",
     "output_type": "stream",
     "text": [
      "Number of Rows: 1760 \n",
      "Number of Cols: 8\n"
     ]
    }
   ],
   "source": [
    "num_columns = pf.countColumns(df)\n",
    "num_rows = pf.countRows(df)\n",
    "\n",
    "print(\"Number of Rows: %d \\nNumber of Cols: %d\"%(num_rows,num_columns))"
   ]
  },
  {
   "cell_type": "markdown",
   "metadata": {},
   "source": [
    "<br>\n",
    "\n",
    "Now that we have the number of rows and columns, let us find out what the idetifiers for the columns are"
   ]
  },
  {
   "cell_type": "code",
   "execution_count": 4,
   "metadata": {},
   "outputs": [
    {
     "name": "stdout",
     "output_type": "stream",
     "text": [
      "Date\n",
      "Converted_Date\n",
      "Open\n",
      "High\n",
      "Low\n",
      "Close\n",
      "Volume\n",
      "Market Cap\n"
     ]
    }
   ],
   "source": [
    "pf.listColumns(df)"
   ]
  },
  {
   "cell_type": "markdown",
   "metadata": {},
   "source": [
    "We can see that there are indeed 7 columns: Date, Open, High, Low, Close, Volume and Market Cap.\n",
    "Let us move on to see if there is any values that stand out which might be a possible error."
   ]
  },
  {
   "cell_type": "code",
   "execution_count": 5,
   "metadata": {},
   "outputs": [
    {
     "data": {
      "text/html": [
       "<div>\n",
       "<style scoped>\n",
       "    .dataframe tbody tr th:only-of-type {\n",
       "        vertical-align: middle;\n",
       "    }\n",
       "\n",
       "    .dataframe tbody tr th {\n",
       "        vertical-align: top;\n",
       "    }\n",
       "\n",
       "    .dataframe thead th {\n",
       "        text-align: right;\n",
       "    }\n",
       "</style>\n",
       "<table border=\"1\" class=\"dataframe\">\n",
       "  <thead>\n",
       "    <tr style=\"text-align: right;\">\n",
       "      <th></th>\n",
       "      <th>Open</th>\n",
       "      <th>High</th>\n",
       "      <th>Low</th>\n",
       "      <th>Close</th>\n",
       "    </tr>\n",
       "  </thead>\n",
       "  <tbody>\n",
       "    <tr>\n",
       "      <th>count</th>\n",
       "      <td>1760.000000</td>\n",
       "      <td>1760.000000</td>\n",
       "      <td>1760.000000</td>\n",
       "      <td>1760.000000</td>\n",
       "    </tr>\n",
       "    <tr>\n",
       "      <th>mean</th>\n",
       "      <td>1479.574239</td>\n",
       "      <td>1536.991108</td>\n",
       "      <td>1418.251273</td>\n",
       "      <td>1485.747000</td>\n",
       "    </tr>\n",
       "    <tr>\n",
       "      <th>std</th>\n",
       "      <td>2950.457188</td>\n",
       "      <td>3092.950362</td>\n",
       "      <td>2780.859459</td>\n",
       "      <td>2959.265478</td>\n",
       "    </tr>\n",
       "    <tr>\n",
       "      <th>min</th>\n",
       "      <td>68.500000</td>\n",
       "      <td>74.560000</td>\n",
       "      <td>65.530000</td>\n",
       "      <td>68.430000</td>\n",
       "    </tr>\n",
       "    <tr>\n",
       "      <th>25%</th>\n",
       "      <td>274.730000</td>\n",
       "      <td>279.857500</td>\n",
       "      <td>268.640000</td>\n",
       "      <td>274.875000</td>\n",
       "    </tr>\n",
       "    <tr>\n",
       "      <th>50%</th>\n",
       "      <td>480.715000</td>\n",
       "      <td>495.195000</td>\n",
       "      <td>472.510000</td>\n",
       "      <td>482.810000</td>\n",
       "    </tr>\n",
       "    <tr>\n",
       "      <th>75%</th>\n",
       "      <td>870.085000</td>\n",
       "      <td>900.222500</td>\n",
       "      <td>831.682500</td>\n",
       "      <td>871.370000</td>\n",
       "    </tr>\n",
       "    <tr>\n",
       "      <th>max</th>\n",
       "      <td>19475.800000</td>\n",
       "      <td>20089.000000</td>\n",
       "      <td>18974.100000</td>\n",
       "      <td>19497.400000</td>\n",
       "    </tr>\n",
       "  </tbody>\n",
       "</table>\n",
       "</div>"
      ],
      "text/plain": [
       "               Open          High           Low         Close\n",
       "count   1760.000000   1760.000000   1760.000000   1760.000000\n",
       "mean    1479.574239   1536.991108   1418.251273   1485.747000\n",
       "std     2950.457188   3092.950362   2780.859459   2959.265478\n",
       "min       68.500000     74.560000     65.530000     68.430000\n",
       "25%      274.730000    279.857500    268.640000    274.875000\n",
       "50%      480.715000    495.195000    472.510000    482.810000\n",
       "75%      870.085000    900.222500    831.682500    871.370000\n",
       "max    19475.800000  20089.000000  18974.100000  19497.400000"
      ]
     },
     "execution_count": 5,
     "metadata": {},
     "output_type": "execute_result"
    }
   ],
   "source": [
    "df.describe()"
   ]
  },
  {
   "cell_type": "markdown",
   "metadata": {},
   "source": [
    "From this, we can see the count of Open,High, Low and Close match each other, meaning that none of the values are missing or NA for those particular columns. The mean, min and max values seem to be reasonable and there are no outliers worth removing. Also, there are no varaibles that are redundant in this dataset, so no columns will be dropped. \n",
    "<br>\n",
    "---\n",
    "#### Cost VS Date Graph\n",
    "The correlation between Cost and Date can be easily observed from the graph below. Each point on the graph is taken every 30 entries and we can observe from this graph that as time passed, the value of BitCoin increased. "
   ]
  },
  {
   "cell_type": "code",
   "execution_count": 10,
   "metadata": {},
   "outputs": [
    {
     "data": {
      "image/png": "[encoded data removed]",
      "text/plain": [
       "<Figure size 432x288 with 1 Axes>"
      ]
     },
     "metadata": {
      "needs_background": "light"
     },
     "output_type": "display_data"
    }
   ],
   "source": [
    "plt.scatter(\"Converted_Date\",\"Close\",data=df.iloc[::-30, :])\n",
    "plt.ylabel(\"Cost\")\n",
    "plt.xlabel(\"Date\")\n",
    "plt.show()"
   ]
  },
  {
   "cell_type": "markdown",
   "metadata": {},
   "source": [
    "---\n",
    "#### Open VS Close Barplot\n",
    "The two values below; Open and High represent the average opening price of the market, and the closing market price of the market respectively. As we can observe from the barplot, the average opening cost is lower than the average closing cost which identifies and supports the fact that bitcoin's value increases."
   ]
  },
  {
   "cell_type": "code",
   "execution_count": 3,
   "metadata": {},
   "outputs": [
    {
     "data": {
      "image/png": "[encoded data removed]",
      "text/plain": [
       "<Figure size 432x288 with 1 Axes>"
      ]
     },
     "metadata": {
      "needs_background": "light"
     },
     "output_type": "display_data"
    },
    {
     "name": "stdout",
     "output_type": "stream",
     "text": [
      "Average opening cost-Average closing cost: $6.17\n"
     ]
    }
   ],
   "source": [
    "pf.openCloseBarPlot(df)"
   ]
  },
  {
   "cell_type": "markdown",
   "metadata": {},
   "source": [
    "We can see from the value above that the average closing cost is about $6.17 more than the opening cost. Now that there is a general idea about the trends, variables and definiitions, by observing the graphs and data depicted above further, we can analyze the situation to extract more information.\n",
    "<br> \n",
    "<br>\n",
    "---\n",
    "#### *Further analysis and research questions:*\n",
    "---\n",
    "From our exploratory analysis, we can observe that the trend of bitcoin from the year 2013 to 2018 is increasing. We notice an exponential increase in cost between the years 2016-2018. In order to find out about this in more detail, a graph depicting solely the years 2017-2018 will be made."
   ]
  },
  {
   "cell_type": "code",
   "execution_count": 46,
   "metadata": {},
   "outputs": [
    {
     "data": {
      "image/png": "[encoded data removed]",
      "text/plain": [
       "<Figure size 432x288 with 1 Axes>"
      ]
     },
     "metadata": {
      "needs_background": "light"
     },
     "output_type": "display_data"
    }
   ],
   "source": [
    "plt.scatter(\"Converted_Date\",\"Close\",data=df.iloc[::-14, :])\n",
    "plt.ylabel(\"Cost\")\n",
    "plt.xlabel(\"Date\")\n",
    "plt.xticks(rotation='90')\n",
    "plt.ylim(0,20000)\n",
    "plt.xlim(datetime.date(2016, 1, 1))\n",
    "plt.show()"
   ]
  },
  {
   "cell_type": "markdown",
   "metadata": {},
   "source": [
    "The above graph depics the biweekly closing cost of BitCoin starting from the year 2016. As we move along the date axis, we can observe the price shoots up in the year 2018 to a high of nearly 16000. For comparison, let us take a look at a similar graph, before the year 2016."
   ]
  },
  {
   "cell_type": "code",
   "execution_count": 44,
   "metadata": {},
   "outputs": [
    {
     "data": {
      "image/png": "[encoded data removed]",
      "text/plain": [
       "<Figure size 432x288 with 1 Axes>"
      ]
     },
     "metadata": {
      "needs_background": "light"
     },
     "output_type": "display_data"
    }
   ],
   "source": [
    "plt.scatter(\"Converted_Date\",\"Close\",data=df.iloc[::-14, :])\n",
    "plt.ylabel(\"Cost\")\n",
    "plt.xlabel(\"Date\")\n",
    "plt.xticks(rotation='90')\n",
    "plt.ylim(0,20000)\n",
    "plt.xlim(datetime.date(2013, 1, 1),datetime.date(2016, 1, 1))\n",
    "plt.show()"
   ]
  },
  {
   "cell_type": "markdown",
   "metadata": {},
   "source": [
    "<br>\n",
    "Now we can analyze the yearly average open, high and low prices. The datasets first entry is Apr 28, 2013 and so the in the table below, the index 0 refers to Apr 28,2013 + 365 Days.\n"
   ]
  },
  {
   "cell_type": "code",
   "execution_count": 5,
   "metadata": {},
   "outputs": [
    {
     "data": {
      "text/html": [
       "<div>\n",
       "<style scoped>\n",
       "    .dataframe tbody tr th:only-of-type {\n",
       "        vertical-align: middle;\n",
       "    }\n",
       "\n",
       "    .dataframe tbody tr th {\n",
       "        vertical-align: top;\n",
       "    }\n",
       "\n",
       "    .dataframe thead th {\n",
       "        text-align: right;\n",
       "    }\n",
       "</style>\n",
       "<table border=\"1\" class=\"dataframe\">\n",
       "  <thead>\n",
       "    <tr style=\"text-align: right;\">\n",
       "      <th></th>\n",
       "      <th>Open</th>\n",
       "      <th>High</th>\n",
       "      <th>Low</th>\n",
       "      <th>Close</th>\n",
       "    </tr>\n",
       "  </thead>\n",
       "  <tbody>\n",
       "    <tr>\n",
       "      <th>0</th>\n",
       "      <td>381.24</td>\n",
       "      <td>397.18</td>\n",
       "      <td>362.67</td>\n",
       "      <td>381.95</td>\n",
       "    </tr>\n",
       "    <tr>\n",
       "      <th>1</th>\n",
       "      <td>400.15</td>\n",
       "      <td>407.83</td>\n",
       "      <td>391.99</td>\n",
       "      <td>399.64</td>\n",
       "    </tr>\n",
       "    <tr>\n",
       "      <th>2</th>\n",
       "      <td>325.64</td>\n",
       "      <td>331.03</td>\n",
       "      <td>320.90</td>\n",
       "      <td>326.22</td>\n",
       "    </tr>\n",
       "    <tr>\n",
       "      <th>3</th>\n",
       "      <td>774.57</td>\n",
       "      <td>787.32</td>\n",
       "      <td>762.44</td>\n",
       "      <td>776.65</td>\n",
       "    </tr>\n",
       "    <tr>\n",
       "      <th>4</th>\n",
       "      <td>6390.89</td>\n",
       "      <td>6676.93</td>\n",
       "      <td>6084.18</td>\n",
       "      <td>6423.62</td>\n",
       "    </tr>\n",
       "  </tbody>\n",
       "</table>\n",
       "</div>"
      ],
      "text/plain": [
       "      Open     High      Low    Close\n",
       "0   381.24   397.18   362.67   381.95\n",
       "1   400.15   407.83   391.99   399.64\n",
       "2   325.64   331.03   320.90   326.22\n",
       "3   774.57   787.32   762.44   776.65\n",
       "4  6390.89  6676.93  6084.18  6423.62"
      ]
     },
     "execution_count": 5,
     "metadata": {},
     "output_type": "execute_result"
    }
   ],
   "source": [
    "yearlydf = pf.getYearlyDf(df)\n",
    "yearlydf"
   ]
  },
  {
   "cell_type": "markdown",
   "metadata": {},
   "source": [
    "What we can extrapolate from the table above are comparisons between the year open and closing, and High and Low. The data shows that as the years progress, the value of bitcoin rose. The only exception to this is year 2, where the opening mean of year 1 was 400.14 dropping to 325.64 in year 2. Taking a look at the previous years, notice that the prices in year 2 actually drop to a lower value than in year 0. Interestingly enough, while year 2's average dips below year 1, the increase to 774.57 in year 3 shows the beginning of the exponential increase in price.\n",
    "To observe the patterns within these 4 years, we can plot a bar graph."
   ]
  },
  {
   "cell_type": "code",
   "execution_count": 6,
   "metadata": {},
   "outputs": [
    {
     "data": {
      "text/plain": [
       "Text(0, 0.5, 'Cost (USD)')"
      ]
     },
     "execution_count": 6,
     "metadata": {},
     "output_type": "execute_result"
    },
    {
     "data": {
      "image/png": "[encoded data removed]",
      "text/plain": [
       "<Figure size 432x288 with 1 Axes>"
      ]
     },
     "metadata": {
      "needs_background": "light"
     },
     "output_type": "display_data"
    }
   ],
   "source": [
    "openclose = yearlydf.plot.bar(y=[\"Open\",\"Close\"])\n",
    "openclose.set_xlabel(\"Year\")\n",
    "openclose.set_ylabel(\"Cost (USD)\")"
   ]
  },
  {
   "cell_type": "code",
   "execution_count": 7,
   "metadata": {},
   "outputs": [
    {
     "data": {
      "text/plain": [
       "Text(0, 0.5, 'Cost (USD)')"
      ]
     },
     "execution_count": 7,
     "metadata": {},
     "output_type": "execute_result"
    },
    {
     "data": {
      "image/png": "[encoded data removed]",
      "text/plain": [
       "<Figure size 432x288 with 1 Axes>"
      ]
     },
     "metadata": {
      "needs_background": "light"
     },
     "output_type": "display_data"
    }
   ],
   "source": [
    "lowhigh = yearlydf.plot.bar(y=[\"Low\",\"High\"])\n",
    "lowhigh.set_xlabel(\"Year\")\n",
    "lowhigh.set_ylabel(\"Cost (USD)\")"
   ]
  },
  {
   "cell_type": "markdown",
   "metadata": {},
   "source": [
    "Using these bar graphs, it is easy to distinguish the differences and values of Bitcoin for each year. However it does not help find a trend. So in order to further research the relationship of bitcoine had as time progressed, more plots must be used. In order to do so, instead of \n",
    "graphing yearly trends, with this dataset it will be better to graph monthly trends to get the more plot points for the graph."
   ]
  },
  {
   "cell_type": "code",
   "execution_count": 8,
   "metadata": {},
   "outputs": [],
   "source": [
    "monthlydf = pf.getMonthlyDf(df)"
   ]
  },
  {
   "cell_type": "code",
   "execution_count": 15,
   "metadata": {},
   "outputs": [
    {
     "data": {
      "image/png": "[encoded data removed]",
      "text/plain": [
       "<Figure size 432x288 with 1 Axes>"
      ]
     },
     "metadata": {
      "needs_background": "light"
     },
     "output_type": "display_data"
    }
   ],
   "source": [
    "openclose = monthlydf.plot.bar(y=[\"Open\",\"Close\"])\n",
    "openclose.set_xlabel(\"Month\")\n",
    "openclose.set_ylabel(\"Cost (USD)\")\n",
    "openclose = openclose.set_xticklabels(['']*monthlydf.shape[0])"
   ]
  },
  {
   "cell_type": "markdown",
   "metadata": {},
   "source": [
    "We can observe a very clear trend, and the bar graph makes it easier than the scatter graph to check for values."
   ]
  },
  {
   "cell_type": "code",
   "execution_count": 16,
   "metadata": {},
   "outputs": [
    {
     "data": {
      "image/png": "[encoded data removed]",
      "text/plain": [
       "<Figure size 432x288 with 1 Axes>"
      ]
     },
     "metadata": {
      "needs_background": "light"
     },
     "output_type": "display_data"
    }
   ],
   "source": [
    "lowhigh = monthlydf.plot.bar(y=[\"High\",\"Low\"])\n",
    "lowhigh.set_xlabel(\"Month\")\n",
    "lowhigh.set_ylabel(\"Cost (USD)\")\n",
    "lowhigh = lowhigh.set_xticklabels(['']*monthlydf.shape[0])"
   ]
  },
  {
   "cell_type": "code",
   "execution_count": 25,
   "metadata": {},
   "outputs": [],
   "source": [
    "    biannualdf = df[::-1]\n",
    "    biannualdf = (\n",
    "        biannualdf.groupby(np.arange(len(biannualdf))//120)\n",
    "        .mean()\n",
    "        .round(2)\n",
    "    )"
   ]
  },
  {
   "cell_type": "code",
   "execution_count": 26,
   "metadata": {},
   "outputs": [
    {
     "data": {
      "image/png": "[encoded data removed]",
      "text/plain": [
       "<Figure size 432x288 with 1 Axes>"
      ]
     },
     "metadata": {
      "needs_background": "light"
     },
     "output_type": "display_data"
    }
   ],
   "source": [
    "lowhigh = biannualdf.plot.bar(y=[\"High\",\"Low\"])\n",
    "lowhigh.set_xlabel(\"Biannual(120 Days)\")\n",
    "lowhigh.set_ylabel(\"Cost (USD)\")\n",
    "lowhigh = lowhigh.set_xticklabels(['']*biannualdf.shape[0])"
   ]
  },
  {
   "cell_type": "code",
   "execution_count": null,
   "metadata": {},
   "outputs": [],
   "source": []
  }
 ],
 "metadata": {
  "kernelspec": {
   "display_name": "Python 3",
   "language": "python",
   "name": "python3"
  },
  "language_info": {
   "codemirror_mode": {
    "name": "ipython",
    "version": 3
   },
   "file_extension": ".py",
   "mimetype": "text/x-python",
   "name": "python",
   "nbconvert_exporter": "python",
   "pygments_lexer": "ipython3",
   "version": "3.8.3"
  }
 },
 "nbformat": 4,
 "nbformat_minor": 4
}
